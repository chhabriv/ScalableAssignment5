{
  "cells": [
    {
      "metadata": {
        "trusted": true
      },
      "cell_type": "code",
      "source": "from bs4 import BeautifulSoup\nfrom bs4.element import Comment\nimport urllib.request\n\ndef tag_visible(element):\n    if element.parent.name in ['style', 'script', 'head', 'title', 'meta', '[document]']:\n        return False\n    if isinstance(element, Comment):\n        return False\n    return True\n\n\ndef text_from_html(body):\n    soup = BeautifulSoup(body, 'html.parser')\n    texts = soup.findAll(text=True)\n    visible_texts = filter(tag_visible, texts)  \n    return u\" \".join(t.strip() for t in visible_texts)\n\nhtml = urllib.request.urlopen('http://tcd.ie/').read()\nprint(text_from_html(html))\nf= open(\"tcd.txt\",\"w+\")\nf.write(text_from_html(html))\nf.close()",
      "execution_count": 45,
      "outputs": [
        {
          "output_type": "stream",
          "text": "                Skip to main content  Trinity College Dublin, The University of Dublin       Trinity Search      Your query Search collection All Trinity Undergraduate Courses Postgraduate Courses Staff AZ of Trinity Areas Trinity Maps Research Expertise Library Catalogue Library Catalogue TARA Research Archive           Trinity Menu   Faculties and Schools  Trinity Courses  Trinity Research  A–Z  Gaeilge                         Trinity College Dublin, The University of Dublin                Prospective students  Current students  Alumni and friends  Enterprise and partnerships  Visitors                        Trinity Open Day 2018   Saturday 10th November 9.00 - 15.30                                 Study at Trinity to realise your full potential  As Ireland's university on the world stage, Trinity is recognised for academic excellence and a transformative student experience. The historic campus is located in the heart of Dublin city centre at the meeting place of the retail and cultural districts. With a tradition of scholarship spanning more than four centuries, Trinity is home to talented and inquiring minds, a liberal education, and research conducted at the frontiers of disciplines.         Research see Trinity's research themes and search for expertise  Innovation see how Trinity is creating value for society  Global Relations see Trinity's gateway to the global community            Latest News and Events         Open letter on Brexit from Trinity College Dublin        Trinity geneticist to feature in 2018 CHRISTMAS LECTURES        Ground-breaking scientist, Trudy Mackay, receives prestigious Dawson Prize        Pulitzer Prize-winning poet Paul Muldoon explores rights of artist in public lecture        Sports scholars announced for 2018-2019        Can an exhausted lung cell of a smoker fight bacterial infection?             What’s on          INTIMACY Visit the latest Science Gallery Dublin exhibition - INTIMACY which explores technology and human connection.         Save Our Spark Stand up for the Irish Spark and better state funding for our universities, following a decade of under-investment. Sign the petition to #SaveOurSpark               Crises of Democracy - Behind the Headlines  6:30 pm Today       Introduction to Dance  7:30 pm Today       INTIMACY  11:00 am Tomorrow       Why do Members of the US Congress deny climate change?  11:00 am Tomorrow    More events               Trinity College Dublin – an introduction  Our university is pulsing with people, energy and ideas. Discover more about our community of staff, students and alumni, and how one of the world’s great cities is home to one of the world’s great universities – Trinity College Dublin. #ThinkTrinity               Trinity is Social                        Explore   Access Programmes  Book of Kells  Library  Maps  Sport  Trinity Local         About Trinity   Provost's Welcome  About the University  Giving to Trinity  Jobs at Trinity              Follow us on social media   Twitter  Facebook  YouTube  iTunes U  LinkedIn    Last updated 10 September 2018  Trinity College Dublin: Web Author (Email)    Sitemap in footer   Home               Trinity College Dublin, The University of Dublin College Green Dublin 2, Ireland T: +353 1 896 1000    Trinity Accessibility  Trinity Privacy  Trinity Disclaimer  Trinity Contact    Follow Trinity on social media             Trinity iTunes U                 Trinity YouTube              Trinity Facebook              Trinity Twitter                Trinity LinkedIn              Trinity Instagram       Our Associations and Charters              \n",
          "name": "stdout"
        }
      ]
    },
    {
      "metadata": {
        "trusted": true
      },
      "cell_type": "code",
      "source": "",
      "execution_count": null,
      "outputs": []
    }
  ],
  "metadata": {
    "kernelspec": {
      "name": "python36",
      "display_name": "Python 3.6",
      "language": "python"
    },
    "language_info": {
      "mimetype": "text/x-python",
      "nbconvert_exporter": "python",
      "name": "python",
      "pygments_lexer": "ipython3",
      "version": "3.6.6",
      "file_extension": ".py",
      "codemirror_mode": {
        "version": 3,
        "name": "ipython"
      }
    }
  },
  "nbformat": 4,
  "nbformat_minor": 2
}